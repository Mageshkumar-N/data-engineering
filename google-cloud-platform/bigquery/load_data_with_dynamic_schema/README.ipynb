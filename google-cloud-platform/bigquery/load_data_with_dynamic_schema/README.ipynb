{
 "cells": [
  {
   "cell_type": "markdown",
   "id": "7cda1fbd",
   "metadata": {},
   "source": [
    "# <center> Loading Dynamic Data into BigQuery"
   ]
  },
  {
   "cell_type": "markdown",
   "id": "3a1d439c",
   "metadata": {},
   "source": [
    "### Usage"
   ]
  },
  {
   "cell_type": "markdown",
   "id": "a122df30",
   "metadata": {},
   "source": [
    "Import the module bq_load_data and call the function load_data_to_bq() by overwriting the default keyword arguements table_name and input_file.\n",
    "\n",
    "It will accommodate the dynamic schema changes from the input file. \n",
    "\n",
    "For example, if there are additional columns in the input file than those expected in the BigQuery table, those columns will be created in BQ. Similarly, if the column present in BQ table is not available in the input file, the column will be created in the input dataframe with null values before loading to BQ. \n",
    "\n",
    "**Assumption:** BigQuery Table is already created and available."
   ]
  },
  {
   "cell_type": "markdown",
   "id": "47929b8e",
   "metadata": {},
   "source": [
    "### Input Parameters Required"
   ]
  },
  {
   "cell_type": "markdown",
   "id": "305cec05",
   "metadata": {},
   "source": [
    "* **project_id:** GCP Project ID where the BigQuery table is located.\n",
    "* **service_account_key_location:** Path where the Service Account's Private Key in JSON format is located. \n",
    "* **service_account_key_name:** Service Account's JSON key file to authorize access for the given GCP Project. \n",
    "* **table_name:** BigQuery Table's Name to which the data must be loaded.\n",
    "* **input_file:** Absolute path to the input CSV file containing the data to be loaded."
   ]
  }
 ],
 "metadata": {
  "kernelspec": {
   "display_name": "Python 3 (ipykernel)",
   "language": "python",
   "name": "python3"
  },
  "language_info": {
   "codemirror_mode": {
    "name": "ipython",
    "version": 3
   },
   "file_extension": ".py",
   "mimetype": "text/x-python",
   "name": "python",
   "nbconvert_exporter": "python",
   "pygments_lexer": "ipython3",
   "version": "3.9.12"
  }
 },
 "nbformat": 4,
 "nbformat_minor": 5
}
