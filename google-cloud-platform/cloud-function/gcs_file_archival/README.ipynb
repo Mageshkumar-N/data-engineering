{
 "cells": [
  {
   "cell_type": "markdown",
   "id": "5eca4eef",
   "metadata": {},
   "source": [
    "# <center>Google Cloud Storage - File Archival on HTTP request"
   ]
  },
  {
   "cell_type": "markdown",
   "id": "c4f22a9d",
   "metadata": {},
   "source": [
    "Given a landing, staging and archival path in GCS, the HTTP request to the Cloud Function copies the files from staging to archival and deletes the same file in both staging and landing area. Files are archived inside a folder suffixed with the current datetime.\n",
    "\n",
    "If there are files only in the staging area and no files are available in the landing area, the function will still successfully archive the files from the staging area."
   ]
  },
  {
   "cell_type": "markdown",
   "id": "46637466",
   "metadata": {},
   "source": [
    "#### GCS Bucket Structure"
   ]
  },
  {
   "cell_type": "markdown",
   "id": "6b94c0ac",
   "metadata": {},
   "source": [
    "Create a bucket with separate folders for landing, staging, and archival."
   ]
  },
  {
   "cell_type": "markdown",
   "id": "cbaa37af",
   "metadata": {},
   "source": [
    "gs://file-archival-test/landing/ \\\n",
    "gs://file-archival-test/staging/ \\\n",
    "gs://file-archival-test/archival/"
   ]
  },
  {
   "cell_type": "markdown",
   "id": "c82429bb",
   "metadata": {},
   "source": [
    "#### Local Test"
   ]
  },
  {
   "cell_type": "markdown",
   "id": "b3082c84",
   "metadata": {},
   "source": [
    "Run the below command to run the function from your local server."
   ]
  },
  {
   "cell_type": "markdown",
   "id": "8a76d104",
   "metadata": {},
   "source": [
    "```shell\n",
    "mvn clean install function:run -Drun.functionTarget=com.example.cloudstorage_file_archival.CloudStorageFileArchival -Drun.port=1234\n",
    "```"
   ]
  },
  {
   "cell_type": "markdown",
   "id": "59f76301",
   "metadata": {},
   "source": [
    "Use the below URL with the query string parameters passed to send request to the above function."
   ]
  },
  {
   "cell_type": "markdown",
   "id": "8c286549",
   "metadata": {},
   "source": [
    "```\n",
    "http://localhost:1234/?landingPath=gs%3A%2F%2Ffile-archival-test%2Flanding%2F&stagingPath=gs%3A%2F%2Ffile-archival-test%2Fstaging%2F&archivalPath=gs%3A%2F%2Ffile-archival-test%2Farchival%2F\n",
    "```"
   ]
  },
  {
   "cell_type": "markdown",
   "id": "45b3740d",
   "metadata": {},
   "source": [
    "#### Deploy in Cloud Function"
   ]
  },
  {
   "cell_type": "markdown",
   "id": "131cf149",
   "metadata": {},
   "source": [
    "Run the below command to deploy in cloud function."
   ]
  },
  {
   "cell_type": "markdown",
   "id": "591271ca",
   "metadata": {},
   "source": [
    "```shell\n",
    "gcloud functions deploy gcs-file-archival --entry-point com.example.cloudstorage_file_archival.CloudStorageFileArchival --runtime java11 --trigger-http --memory 2GB --allow-unauthenticated\n",
    "```"
   ]
  },
  {
   "cell_type": "markdown",
   "id": "38dec6b3",
   "metadata": {},
   "source": [
    "Use the below URL with the endpoint modified according to your project to trigger the Cloud Function with HTTP request."
   ]
  },
  {
   "cell_type": "markdown",
   "id": "b488880b",
   "metadata": {},
   "source": [
    "```\n",
    "https://us-central1-arched-autumn-379510.cloudfunctions.net/gcs-file-archival?landingPath=gs%3A%2F%2Ffile-archival-test%2Flanding%2F&stagingPath=gs%3A%2F%2Ffile-archival-test%2Fstaging%2F&archivalPath=gs%3A%2F%2Ffile-archival-test%2Farchival%2F\n",
    "```"
   ]
  }
 ],
 "metadata": {
  "kernelspec": {
   "display_name": "Python 3 (ipykernel)",
   "language": "python",
   "name": "python3"
  },
  "language_info": {
   "codemirror_mode": {
    "name": "ipython",
    "version": 3
   },
   "file_extension": ".py",
   "mimetype": "text/x-python",
   "name": "python",
   "nbconvert_exporter": "python",
   "pygments_lexer": "ipython3",
   "version": "3.9.12"
  }
 },
 "nbformat": 4,
 "nbformat_minor": 5
}
