{
 "cells": [
  {
   "cell_type": "markdown",
   "id": "3b99577f",
   "metadata": {},
   "source": [
    "# <center> Manage GCE Instance State"
   ]
  },
  {
   "cell_type": "markdown",
   "id": "5e5a1302",
   "metadata": {},
   "source": [
    "The Airflow DAG helps users to either start or stop the VM instances manually on-demand basis based on the JSON configuration passed while triggering. \n",
    "\n",
    "This is helpful for users who cannot be given `compute.instances.start` and/or `compute.instances.stop` permissions due to organizational policies."
   ]
  },
  {
   "cell_type": "markdown",
   "id": "4a724451",
   "metadata": {},
   "source": [
    "## Features"
   ]
  },
  {
   "cell_type": "markdown",
   "id": "cfdca99b",
   "metadata": {},
   "source": [
    "* Default JSON config is populated for ease of usage.\n",
    "* Can be integrated with monitoring based triggers for automatic instance management."
   ]
  },
  {
   "cell_type": "markdown",
   "id": "e762cd92",
   "metadata": {},
   "source": [
    "## Usage"
   ]
  },
  {
   "cell_type": "markdown",
   "id": "0eca220c",
   "metadata": {},
   "source": [
    "* Trigger the DAG w/ config.\n",
    "* Edit the default JSON config as per requirement.\n",
    "> **zone:** Pass the zone/region of the VM Instance. \\\n",
    "> **resource_id:** Pass the name of the VM Instance. \\\n",
    "> **action:** Pass either \"start\" or \"stop\" to manage the VM Instance state."
   ]
  }
 ],
 "metadata": {
  "kernelspec": {
   "display_name": "Python 3 (ipykernel)",
   "language": "python",
   "name": "python3"
  },
  "language_info": {
   "codemirror_mode": {
    "name": "ipython",
    "version": 3
   },
   "file_extension": ".py",
   "mimetype": "text/x-python",
   "name": "python",
   "nbconvert_exporter": "python",
   "pygments_lexer": "ipython3",
   "version": "3.9.12"
  }
 },
 "nbformat": 4,
 "nbformat_minor": 5
}
