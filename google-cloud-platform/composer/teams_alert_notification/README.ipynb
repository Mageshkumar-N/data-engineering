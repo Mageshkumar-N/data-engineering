{
 "cells": [
  {
   "cell_type": "markdown",
   "id": "e60a0b72",
   "metadata": {},
   "source": [
    "# <center>Teams Notification Utility"
   ]
  },
  {
   "cell_type": "markdown",
   "id": "3598c900",
   "metadata": {},
   "source": [
    "A common utility module to send alert notifications of the Airflow pipeline status during every DAG run to the given Teams Channel. This utility uses the Teams webhook connector which can be configured by following the steps as mentioned <a href=\"https://learn.microsoft.com/en-us/microsoftteams/platform/webhooks-and-connectors/how-to/add-incoming-webhook?tabs=dotnet#create-incoming-webhooks-1\">here</a>. "
   ]
  },
  {
   "cell_type": "markdown",
   "id": "47c184aa",
   "metadata": {},
   "source": [
    "### Usage"
   ]
  },
  {
   "cell_type": "markdown",
   "id": "f9a6e289",
   "metadata": {},
   "source": [
    "* Set the Airflow Variables `webhook_url` and `project_id`.\n",
    "> **webhook_url:** The Incoming Webhook's URL for the Teams Channel that receives the pipeline notification. \\\n",
    "> **project_id:** The GCP Project ID where the Cloud Composer's Environment and the DAG pipelines are created and running. \n",
    "* Import the `success_handler` and `failure_handler` from `util` module in the required Airflow DAG's pipeline module.\n",
    "* Add the below callback functions in the pipeline's DAG object constructor.\n",
    "```\n",
    "on_success_callback=success_handler,\n",
    "on_failure_callback=failure_handler\n",
    "```    "
   ]
  },
  {
   "cell_type": "markdown",
   "id": "235cf6f1",
   "metadata": {},
   "source": [
    "### Features"
   ]
  },
  {
   "cell_type": "markdown",
   "id": "25001510",
   "metadata": {},
   "source": [
    "Based on the DAG status, either a Success Notification or a Failure Notification is triggered for every run irrespective of their trigger type being manual or scheduled. \n",
    "\n",
    "In addition to DAG Name, Run ID, and DAG Statusk, the Failure Notification displays the Task Name, and Failure Reason as well.\n",
    "\n",
    "Both the notification messages has a hyperlink button enabled which re-directs the user to the Airflow Logs of the final task or the GCP Cloud Logging's Logs Explorer to show the current DAGs complete logs."
   ]
  },
  {
   "cell_type": "markdown",
   "id": "23642fd8",
   "metadata": {},
   "source": [
    "### Notification Message"
   ]
  },
  {
   "cell_type": "markdown",
   "id": "1f21ee14",
   "metadata": {},
   "source": [
    "The Success and Failure Notification's teams message card looks like the below.\n",
    "\n",
    "<img src=\"Pipeline_Notification_Sample.png\" width=\"60%\" height=\"60%\">"
   ]
  }
 ],
 "metadata": {
  "kernelspec": {
   "display_name": "Python 3 (ipykernel)",
   "language": "python",
   "name": "python3"
  },
  "language_info": {
   "codemirror_mode": {
    "name": "ipython",
    "version": 3
   },
   "file_extension": ".py",
   "mimetype": "text/x-python",
   "name": "python",
   "nbconvert_exporter": "python",
   "pygments_lexer": "ipython3",
   "version": "3.9.12"
  }
 },
 "nbformat": 4,
 "nbformat_minor": 5
}
